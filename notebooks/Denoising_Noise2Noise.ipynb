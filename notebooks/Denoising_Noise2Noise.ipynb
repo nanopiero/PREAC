{
  "nbformat": 4,
  "nbformat_minor": 0,
  "metadata": {
    "colab": {
      "provenance": []
    },
    "kernelspec": {
      "name": "python3",
      "display_name": "Python 3"
    },
    "accelerator": "GPU",
    "gpuClass": "standard"
  },
  "cells": [
    {
      "cell_type": "markdown",
      "source": [
        "# Atelier 2 : Débruiter à partir d'images bruitées - l'approche Noise2Noise"
      ],
      "metadata": {
        "id": "MCN6FPP8tPo-"
      }
    },
    {
      "cell_type": "code",
      "source": [
        "# Imports des bibliothèques utiles\n",
        "# pour l'IA\n",
        "import torch\n",
        "# pour les maths\n",
        "import numpy as np\n",
        "# pour afficher des images et des courbes\n",
        "import matplotlib.pyplot as plt"
      ],
      "metadata": {
        "id": "WO6YIA-yzgPg"
      },
      "execution_count": null,
      "outputs": []
    },
    {
      "cell_type": "code",
      "source": [
        "! git clone https://github.com/nanopiero/PREAC.git"
      ],
      "metadata": {
        "id": "ShfsOSzse6-H"
      },
      "execution_count": null,
      "outputs": []
    },
    {
      "cell_type": "code",
      "source": [
        "! ls"
      ],
      "metadata": {
        "id": "sft5ajOjnaCK",
        "outputId": "bbaa65b8-6f1f-4b60-eb59-ec8a037d40a0",
        "colab": {
          "base_uri": "https://localhost:8080/"
        }
      },
      "execution_count": null,
      "outputs": [
        {
          "output_type": "stream",
          "name": "stdout",
          "text": [
            "PREAC  sample_data\n"
          ]
        }
      ]
    },
    {
      "cell_type": "markdown",
      "source": [
        "## A. Découverte du problème"
      ],
      "metadata": {
        "id": "yiF14lyxzztf"
      }
    },
    {
      "cell_type": "code",
      "source": [
        "from PREAC.utile_denoising import gen_noise2noise, voir_batch2D\n",
        "\n",
        "# Jeu de données : pas d'image propre\n",
        "# mais plusieurs versions de la même image\n",
        "# bruitées différemment.\n",
        "\n",
        "image1, image2 = gen_noise2noise(6)\n",
        "# version bruitée n°1\n",
        "fig = plt.figure(0, figsize=(36, 6))\n",
        "voir_batch2D(image1, 6, fig, k=0, min_scale=0,max_scale=1)\n",
        "\n",
        "#version bruitée n°2\n",
        "fig2 = plt.figure(1, figsize=(36, 6))\n",
        "voir_batch2D(image2.detach().cpu(), 6, fig2, k=0, min_scale=0,max_scale=1)"
      ],
      "metadata": {
        "id": "2WAABDUPBDBr"
      },
      "execution_count": null,
      "outputs": []
    },
    {
      "cell_type": "markdown",
      "source": [
        "## B. Résolution du problème"
      ],
      "metadata": {
        "id": "RWtu2q9y0r7X"
      }
    },
    {
      "cell_type": "markdown",
      "source": [
        "A vous de jouer !"
      ],
      "metadata": {
        "id": "WJChKvE50xOn"
      }
    },
    {
      "cell_type": "markdown",
      "source": [
        "**Questions intéressantes** : \\\\\n",
        "Pourquoi ça marche ? \\\\\n",
        "A quoi l'appliquer ?"
      ],
      "metadata": {
        "id": "iOfaoSgd0b_v"
      }
    },
    {
      "cell_type": "markdown",
      "source": [
        "Bibliographie :  [Lehtinen et al (2018)](https://arxiv.org/abs/1803.04189)."
      ],
      "metadata": {
        "id": "yQeODMBs0nmf"
      }
    }
  ]
}