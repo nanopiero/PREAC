{
  "nbformat": 4,
  "nbformat_minor": 0,
  "metadata": {
    "colab": {
      "provenance": []
    },
    "kernelspec": {
      "name": "python3",
      "display_name": "Python 3"
    },
    "accelerator": "GPU",
    "gpuClass": "standard"
  },
  "cells": [
    {
      "cell_type": "markdown",
      "source": [
        "# Atelier 3 : Débruiter à partir d'images bruitées - l'approche Noise2Noise"
      ],
      "metadata": {
        "id": "MCN6FPP8tPo-"
      }
    },
    {
      "cell_type": "code",
      "source": [
        "# Imports des bibliothèques utiles\n",
        "# pour l'IA\n",
        "import torch\n",
        "# pour les maths\n",
        "import numpy as np\n",
        "# pour afficher des images et des courbes\n",
        "import matplotlib.pyplot as plt"
      ],
      "metadata": {
        "id": "iqp_Y4AhIqKZ"
      },
      "execution_count": null,
      "outputs": []
    },
    {
      "cell_type": "code",
      "source": [
        "! git clone https://github.com/nanopiero/PREAC.git"
      ],
      "metadata": {
        "id": "sft5ajOjnaCK",
        "outputId": "23d4f96f-22cd-4365-d9ed-bcdb1c0e78e9",
        "colab": {
          "base_uri": "https://localhost:8080/"
        }
      },
      "execution_count": 1,
      "outputs": [
        {
          "output_type": "stream",
          "name": "stdout",
          "text": [
            "Cloning into 'PREAC'...\n",
            "remote: Enumerating objects: 67, done.\u001b[K\n",
            "remote: Counting objects: 100% (67/67), done.\u001b[K\n",
            "remote: Compressing objects: 100% (64/64), done.\u001b[K\n",
            "remote: Total 67 (delta 28), reused 0 (delta 0), pack-reused 0\u001b[K\n",
            "Receiving objects: 100% (67/67), 7.04 MiB | 10.42 MiB/s, done.\n",
            "Resolving deltas: 100% (28/28), done.\n"
          ]
        }
      ]
    },
    {
      "cell_type": "markdown",
      "source": [
        "## A. Découverte du problème"
      ],
      "metadata": {
        "id": "qeHiaJE5O44_"
      }
    },
    {
      "cell_type": "code",
      "source": [
        "from PREAC.utile_denoising import gen1_NES, gen2_NES\n",
        "\n",
        "# Deux jeux de données sont à disposition:\n",
        "# Le premier contient le signal d'intérêt et du bruit\n",
        "# Le second contient ne contient que du bruit:\n",
        "\n",
        "image1 = gen1_NES(6)\n",
        "noise = gen2_NES(6)\n",
        "\n",
        "# signal + bruit\n",
        "fig = plt.figure(0, figsize=(36, 6))\n",
        "voir_batch2D(image1, 6, fig, k=0, min_scale=0,max_scale=1)\n",
        "\n",
        "# bruit seul\n",
        "fig2 = plt.figure(1, figsize=(36, 6))\n",
        "voir_batch2D(noise, 6, fig2, k=0, min_scale=0,max_scale=1)"
      ],
      "metadata": {
        "id": "NR-X2s_iQdW1"
      },
      "execution_count": null,
      "outputs": []
    },
    {
      "cell_type": "markdown",
      "source": [
        "## B. Résolution du problème"
      ],
      "metadata": {
        "id": "ZpTzP2QP92bA"
      }
    },
    {
      "cell_type": "markdown",
      "source": [
        "A vous de jouer !"
      ],
      "metadata": {
        "id": "qIB2ChRO95ug"
      }
    },
    {
      "cell_type": "markdown",
      "source": [
        "**Questions intéressantes** : \\\\\n",
        "Pourquoi ça marche pas trop mal ? \\\\\n",
        "Comment ça pourrait mieux marcher ? \\\\\n",
        "Dans quel contexte l'appliquer ?"
      ],
      "metadata": {
        "id": "xue6YuaR96XI"
      }
    },
    {
      "cell_type": "markdown",
      "source": [
        "Bibliographie :  [Halperin et al (2018)](https://arxiv.org/abs/1811.12739)."
      ],
      "metadata": {
        "id": "AApc01mZ7uug"
      }
    }
  ]
}