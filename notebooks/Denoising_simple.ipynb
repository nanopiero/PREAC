{
  "cells": [
    {
      "cell_type": "markdown",
      "id": "2666ea13-a0b5-42ba-ba46-8624ed2cb995",
      "metadata": {
        "id": "2666ea13-a0b5-42ba-ba46-8624ed2cb995"
      },
      "source": [
        "# Atelier 1 : Denoising parfaitement supervisé"
      ]
    },
    {
      "cell_type": "code",
      "source": [
        "# Pour commencer : aller dans éxecution/modifier le type d'exécution et vérifier\n",
        "# que CPU est bien coché (on n'a pas besoin de plus pour l'instant)\n",
        "\n",
        "# Imports des bibliothèques utiles\n",
        "# pour l'IA\n",
        "import torch\n",
        "# pour les maths\n",
        "import numpy as np\n",
        "# pour afficher des images et des courbes\n",
        "import matplotlib.pyplot as plt"
      ],
      "metadata": {
        "id": "6n2YmAgdpTfY"
      },
      "id": "6n2YmAgdpTfY",
      "execution_count": 1,
      "outputs": []
    },
    {
      "cell_type": "code",
      "execution_count": null,
      "id": "c81b943d-4b2f-4314-9f4a-d53631db4cce",
      "metadata": {
        "id": "c81b943d-4b2f-4314-9f4a-d53631db4cce"
      },
      "outputs": [],
      "source": [
        "! git clone https://github.com/nanopiero/PREAC.git"
      ]
    },
    {
      "cell_type": "code",
      "execution_count": null,
      "id": "560c719f-acc0-400d-a30a-deb84e2a6085",
      "metadata": {
        "id": "560c719f-acc0-400d-a30a-deb84e2a6085"
      },
      "outputs": [],
      "source": [
        "! ls PREAC"
      ]
    },
    {
      "cell_type": "markdown",
      "source": [
        "## A. Découverte du problème"
      ],
      "metadata": {
        "id": "mAsAdLwzz3MQ"
      },
      "id": "mAsAdLwzz3MQ"
    },
    {
      "cell_type": "code",
      "execution_count": null,
      "id": "5bb7367e-e140-4fb2-ad5a-97904a6a56dd",
      "metadata": {
        "id": "5bb7367e-e140-4fb2-ad5a-97904a6a56dd"
      },
      "outputs": [],
      "source": [
        "from PREAC.utile_denoising import gen, voir_batch2D\n",
        "\n",
        "input, target = gen(6)\n",
        "\n",
        "# Entrées (images bruitées)\n",
        "fig0 = plt.figure(0, figsize=(36, 6))\n",
        "voir_batch2D(input, 6, fig0, k=0, min_scale=0, max_scale=1)\n",
        "\n",
        "# Cibles (images non bruitées)\n",
        "fig1 = plt.figure(1, figsize=(36, 6))\n",
        "voir_batch2D(target, 6, fig1, k=0, min_scale=0, max_scale=1)"
      ]
    },
    {
      "cell_type": "markdown",
      "source": [
        "## Questions intéressantes ##\n",
        "Sous quelle forme les images sont-elles représentées dans la machine ? \\\\\n"
      ],
      "metadata": {
        "id": "dIW3mTdr33ww"
      },
      "id": "dIW3mTdr33ww"
    },
    {
      "cell_type": "markdown",
      "source": [
        "## B.Prise en main de l'outil"
      ],
      "metadata": {
        "id": "vC-UVZhSsp8X"
      },
      "id": "vC-UVZhSsp8X"
    },
    {
      "cell_type": "markdown",
      "id": "0d62c467-2edd-4fae-b73b-a75dc66a2d47",
      "metadata": {
        "id": "0d62c467-2edd-4fae-b73b-a75dc66a2d47"
      },
      "source": [
        "Instantiation d'un réseau U-Net :"
      ]
    },
    {
      "cell_type": "code",
      "execution_count": 6,
      "id": "d063992f-8cb0-4786-ad30-11766a9ce0f3",
      "metadata": {
        "id": "d063992f-8cb0-4786-ad30-11766a9ce0f3"
      },
      "outputs": [],
      "source": [
        "from PREAC.utile_denoising import UNet\n",
        "\n",
        "ch_in = 1\n",
        "ch_out = 1\n",
        "size = 16\n",
        "\n",
        "# Instanciation :\n",
        "fcn = UNet(ch_in, ch_out, size)"
      ]
    },
    {
      "cell_type": "markdown",
      "id": "283f11bf-270a-46e3-9072-697c4e2a45f3",
      "metadata": {
        "id": "283f11bf-270a-46e3-9072-697c4e2a45f3"
      },
      "source": [
        "**Questions intéressantes :**  \\\\\n",
        "Où le réseau est-il codé ? \\\\\n",
        "Combien y a-t-il de poids (taille de $\\theta$) dans le réseau ? \\\\\n",
        "Que représentent *ch_in*, *ch_out*, *size* ? \\\\\n",
        "Comment l'appliquer à une image ? \\\\\n",
        "Quelle sont alors les dimensions de l'output ? \\\\\n",
        "Comment visualiser l'output ?"
      ]
    },
    {
      "cell_type": "markdown",
      "source": [
        "## C.Entraînement sur CPU"
      ],
      "metadata": {
        "id": "AtLzp6JBsvXA"
      },
      "id": "AtLzp6JBsvXA"
    },
    {
      "cell_type": "code",
      "execution_count": 4,
      "id": "08555c72-b5db-4b3a-966d-a7a5e51ea08a",
      "metadata": {
        "id": "08555c72-b5db-4b3a-966d-a7a5e51ea08a"
      },
      "outputs": [],
      "source": [
        "# Pour comparer la sortie et la cible:\n",
        "def Loss(output, target):\n",
        "    return torch.mean((output - target)**2)"
      ]
    },
    {
      "cell_type": "code",
      "execution_count": 7,
      "id": "0c45b419-f1f6-4dad-bb09-661d7ab0a451",
      "metadata": {
        "id": "0c45b419-f1f6-4dad-bb09-661d7ab0a451"
      },
      "outputs": [],
      "source": [
        "# Pour définir le type de descente de gradient:\n",
        "import torch.optim as optim\n",
        "optimizer = optim.Adam(fcn.parameters(), 10**(-4))"
      ]
    },
    {
      "cell_type": "code",
      "execution_count": null,
      "id": "cc47f885-862f-4205-a316-6045aea86aa8",
      "metadata": {
        "id": "cc47f885-862f-4205-a316-6045aea86aa8",
        "nbgrader": {
          "grade": false,
          "grade_id": "cell-631d663900b2f330",
          "locked": false,
          "schema_version": 3,
          "solution": true,
          "task": false
        },
        "tags": []
      },
      "outputs": [],
      "source": [
        "nepochs = 1 # Unité de l'apprentissage (normalement: parcours complet du jeu de données)\n",
        "nbatches = 50  # mini-batches par époque\n",
        "batchsize = 32  # taille d'un mini-batch\n",
        "\n",
        "train_losses = []  # Liste qui contiendra les écarts moyens sur l'époque\n",
        "\n",
        "for epoch in range(nepochs):\n",
        "    print(f\"Epoch {epoch + 1}/{nepochs}\")\n",
        "\n",
        "    epoch_losses = []  # Liste auxiliaire, pour stocker les écarts\n",
        "\n",
        "    for i in range(nbatches):\n",
        "\n",
        "        inputs, targets = gen(batchsize)\n",
        "\n",
        "        optimizer.zero_grad()\n",
        "        outputs = fcn(inputs)\n",
        "        loss = Loss(outputs, targets)\n",
        "        loss.backward()\n",
        "        optimizer.step()\n",
        "\n",
        "        epoch_losses.append(loss.detach().cpu().item())\n",
        "\n",
        "    epoch_loss = np.mean(epoch_losses)\n",
        "    train_losses.append(epoch_loss)\n",
        "\n",
        "    print(f'Epoch loss: {epoch_loss:.4f}')"
      ]
    },
    {
      "cell_type": "markdown",
      "source": [
        "## Questions intéressantes ##\n",
        "A quoi sert chaque ligne ? \\\\\n",
        "Combien de temps prend une époque ? \\\\\n",
        "Comment accélerer le calcul ?"
      ],
      "metadata": {
        "id": "mUWxiqpBusBQ"
      },
      "id": "mUWxiqpBusBQ"
    },
    {
      "cell_type": "markdown",
      "source": [
        "# D. Entraînement sur carte GPU"
      ],
      "metadata": {
        "id": "nwzsRhG2ukam"
      },
      "id": "nwzsRhG2ukam"
    },
    {
      "cell_type": "code",
      "source": [
        "# Passer un objet sur l'accélérateur :\n",
        "device = torch.device('cuda:0')\n",
        "input = input.to(device)\n",
        "fcn = fcn.to(device)\n",
        "\n",
        "# Reprendre l'entraînement"
      ],
      "metadata": {
        "id": "iHPi9r6XvQ-H"
      },
      "id": "iHPi9r6XvQ-H",
      "execution_count": 10,
      "outputs": []
    },
    {
      "cell_type": "markdown",
      "source": [
        "## Questions intéressantes ##\n",
        "Quel est le gain de temps sur GPU ? \\\\\n",
        "Comment l'apprentissage a-t-il progressé ? \\\\\n",
        "Pourquoi n'utilisons-nous qu'un seul jeu ici (et pas trois) ? \\\\\n",
        "Quels sont les outputs après 10 époques, 50 époques ? \\\\\n",
        "Une régression linéaire pixel à pixel ne ferait-elle pas l'affaire ?\n"
      ],
      "metadata": {
        "id": "FcF7k58jw8hA"
      },
      "id": "FcF7k58jw8hA"
    }
  ],
  "metadata": {
    "accelerator": "GPU",
    "colab": {
      "gpuType": "L4",
      "provenance": [],
      "machine_shape": "hm"
    },
    "kernelspec": {
      "display_name": "Python 3",
      "name": "python3"
    },
    "language_info": {
      "codemirror_mode": {
        "name": "ipython",
        "version": 3
      },
      "file_extension": ".py",
      "mimetype": "text/x-python",
      "name": "python",
      "nbconvert_exporter": "python",
      "pygments_lexer": "ipython3",
      "version": "3.9.7"
    }
  },
  "nbformat": 4,
  "nbformat_minor": 5
}